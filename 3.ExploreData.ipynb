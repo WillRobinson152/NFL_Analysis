{
 "cells": [
  {
   "cell_type": "markdown",
   "id": "original-april",
   "metadata": {},
   "source": [
    "# __NFL Exploratory Data Analysis__\n",
    "\n",
    "The NFL is becoming a passing-dominated league. Passing attempts, yards and touchdowns have been outpacing rushing attempts, yards and touchdowns for decades, and the gaps are widening.\n",
    "\n",
    "This strategy appears to yield better offenses. While passing yards have increased steeply, rushing yards have been mostly flat - meaning passing yards are not making up for lost rushing yards, but rather total yards are increasing. Similarly, both passing and rushing touchdowns have increased in recent years, again suggesting that the increasing focus on passing has not come at the expense of rushing.\n",
    "\n",
    "Lastly, both points scored and first downs have steadily increased. Focusing on passing has led to more effective offenses."
   ]
  },
  {
   "cell_type": "markdown",
   "id": "loaded-postage",
   "metadata": {},
   "source": [
    "### Passing vs. Rushing\n",
    "_Teams' season stats_"
   ]
  },
  {
   "attachments": {},
   "cell_type": "markdown",
   "id": "judicial-paint",
   "metadata": {},
   "source": [
    "<div>\n",
    "    <img src=\"./Images/PassingVsRushing.png\" width=650px/>\n",
    "</div>"
   ]
  },
  {
   "cell_type": "markdown",
   "id": "turned-sudan",
   "metadata": {},
   "source": [
    "However, there appear to be only sporadic differences between the best teams and worst teams when it comes to a passing and rushing attempts. Unsurprisingly, the winningest teams score more.\n",
    "\n",
    "The winningest teams also seem to have a slight edge in rush attempts and slightly fewer pass attempts than the worst teams. This could simply represent winning teams rushing the ball more often to burn clock and keep their leads, while losing teams simultaneously try to throw to catch up on the scoreboard in the least amount of time."
   ]
  },
  {
   "cell_type": "markdown",
   "id": "enabling-nirvana",
   "metadata": {},
   "source": [
    "### Best vs. Worst\n",
    "_Stats for teams in the top and bottom quartiles of teams ranked by win percentage_"
   ]
  },
  {
   "attachments": {},
   "cell_type": "markdown",
   "id": "spanish-humidity",
   "metadata": {},
   "source": [
    "<div>\n",
    "    <img src=\"./Images/BestVsWorst.png\" width=650px/>\n",
    "</div>"
   ]
  },
  {
   "cell_type": "markdown",
   "id": "single-shield",
   "metadata": {},
   "source": [
    "Rushing effectiveness, as measured in yards per rush attempt, does not seem to be a major predictor of success.\n",
    "\n",
    "Start with two telling anecdotes: the 1972 Miami Dolphins averaged 4.8 yards per carry when they achieved the NFL's first undefeated season; yet, the 2017 Cleveland Browns averaged almost as many yards per carry, 4.5, when they went 0-16.\n",
    "\n",
    "Similarly, the 1994 New England Patriots recorded the league's lowest yards per rush of all time, 2.8, but won as many or more games than 81% of teams that year. The 2006 Atlanta Falcons, meanwhile, tied the NFL record of 5.5 yards per rush, but finished as bad or worse than 65% of teams that year.\n",
    "\n",
    "Looking at each quartile's yards per rush attempt, the winningest teams and worst performing teams each have a median close to 4 and similar variance. It would be impossible to deduce how well a team did in any season if all you knew about them was their rushing effectiveness.\n",
    "\n",
    "_Season avg. rush yard per attempt per team, 1970-2020_"
   ]
  },
  {
   "attachments": {},
   "cell_type": "markdown",
   "id": "minor-original",
   "metadata": {},
   "source": [
    "<div>\n",
    "    <img src=\"./Images/RushingEffectiveness.png\" width=650px/>\n",
    "</div>"
   ]
  },
  {
   "cell_type": "markdown",
   "id": "exclusive-boost",
   "metadata": {},
   "source": [
    "Though hardly perfect, passing effectiveness, as measured by passing yards per attempt, appears to be a much better predictor of success than rushing effectiveness. The teams with the highest passing effectiveness were among the winningest teams in their seasons, while the teams with the lowest passing effectiveness were among the worst in their seasons.\n",
    "\n",
    "The team with the most yards per attempt all time, the 1984 Miami Dolphins, won nearly 88% of their games, while the team with the least yards per attempt all time, the 1974 Atlanta Falcons, won only 21.4% of their games.\n",
    "\n",
    "The box-and-whisker plots for each quartile show a steadily rising median as teams win more games, and the scatter plot shows that all teams that finish with an average higher than 7.8 yards per pass attempt are in the top half of NFL teams, while every team with fewer than 3.8 yards per pass attempt finished in the bottom half. While this does not show that this will always be the case in the future, it does show that historically, the teams that are the most efficient. passers win more than those that pass inefficiently.\n",
    "\n",
    "_Season avg. pass yard per attempt per team, 1970-2020_"
   ]
  },
  {
   "attachments": {},
   "cell_type": "markdown",
   "id": "instant-cooking",
   "metadata": {},
   "source": [
    "<div>\n",
    "    <img src=\"./Images/PassingEffectiveness.png\" width=650px/>\n",
    "</div>"
   ]
  },
  {
   "cell_type": "markdown",
   "id": "romantic-palestine",
   "metadata": {},
   "source": [
    "Doubling down on passing efficiency's association with wins, the majority of quarterback passing ratings are higher for winning teams. Quarterback ratings, measured on a scale of 0 to 158.3, are a play-by-play measure of passing efficiency that rewards yards, a high completion percentage and touchdowns and penalizes turnovers, a low completion percentage and sacks.\n",
    "\n",
    "Surprisingly, winning teams often give up more sacks than they get. Winning teams often have an advantage in time of possession; again, this is likely because teams with a lead try to run clock to keep their lead, while losing teams must be time efficient in order to stay in the game. That winning teams often run more and pass less than their opponents further supports this idea.\n",
    "\n",
    "_Winners' value minus losers_value in each game of last 10 seasons_"
   ]
  },
  {
   "attachments": {},
   "cell_type": "markdown",
   "id": "veterinary-inspector",
   "metadata": {},
   "source": [
    "<div>\n",
    "    <img src=\"./Images/WinnersStats.png\" width=650px/>\n",
    "</div>"
   ]
  },
  {
   "cell_type": "markdown",
   "id": "pleasant-tiffany",
   "metadata": {},
   "source": [
    "Many of the statistics most correlated with wins are expected. Teams that win tend to have a higher completion percentage, fewer interceptions, a higher third down conversion percentage, fewer fourth down attempts, fewer punts, a higher time of possession and more touchdowns.\n",
    "\n",
    "Quarterback rating has the highest correlation value, 0.66, followed by rushing attempts, 0.61."
   ]
  },
  {
   "cell_type": "markdown",
   "id": "reflected-thought",
   "metadata": {},
   "source": [
    "### Game Differential Correlation Matrix"
   ]
  },
  {
   "attachments": {},
   "cell_type": "markdown",
   "id": "sustainable-canvas",
   "metadata": {},
   "source": [
    "<div>\n",
    "    <img src=\"./Images/CorrelationHeatMap.png\" width=650px/>\n",
    "</div>"
   ]
  },
  {
   "cell_type": "markdown",
   "id": "split-fraction",
   "metadata": {},
   "source": [
    "Size, meanwhile, appears to be a poor predictor of wins. For example, team appear to win about as many games when they have taller wide receivers, taller secondaries, bigger offensive lines or bigger defensive lines as they do when they are they shorter, smaller team."
   ]
  },
  {
   "cell_type": "markdown",
   "id": "processed-commission",
   "metadata": {},
   "source": [
    "### Size Advantage by Position Group\n",
    "\n",
    "_Winners' value minus losers_value in each game of last 10 seasons_"
   ]
  },
  {
   "attachments": {},
   "cell_type": "markdown",
   "id": "governing-ranking",
   "metadata": {},
   "source": [
    "<div>\n",
    "    <img src=\"./Images/SizeDifferentials.png\" width=650px/>\n",
    "</div>"
   ]
  },
  {
   "cell_type": "markdown",
   "id": "unnecessary-lotus",
   "metadata": {},
   "source": [
    "These relationships hold true in this correlation matrix. No size advantage appears tightly correlated with winning. \n",
    "\n",
    "This initially surprised me, as it seems intuitive that a larger offensive line or taller wide receiver group, for example, would help a team win. Upon further reflection, however, this probably indicates that all NFL players are roughly the same heights and weights within their position groups, and therefore, no team enjoys a meaningful advantage in size that could help them win."
   ]
  },
  {
   "cell_type": "markdown",
   "id": "opponent-bracket",
   "metadata": {},
   "source": [
    "### Size Differential Correlation Matrix"
   ]
  },
  {
   "attachments": {},
   "cell_type": "markdown",
   "id": "formal-badge",
   "metadata": {},
   "source": [
    "<div>\n",
    "    <img src=\"./Images/SizeCorrelation.png\" width=650px/>\n",
    "</div>"
   ]
  },
  {
   "cell_type": "markdown",
   "id": "adjustable-client",
   "metadata": {},
   "source": [
    "The graphic below seems to bear out this theory. There is scarcely any variation year-to-year in each position group's median size and age, suggesting teams were unable to draft or hire freakishly large or tall players in any position group."
   ]
  },
  {
   "cell_type": "markdown",
   "id": "future-medline",
   "metadata": {},
   "source": [
    "### Sizes and Ages by Position Group"
   ]
  },
  {
   "attachments": {},
   "cell_type": "markdown",
   "id": "extended-soundtrack",
   "metadata": {},
   "source": [
    "<div>\n",
    "    <img src=\"./Images/SizeAndAges.png\" width=650px/>\n",
    "<div>"
   ]
  }
 ],
 "metadata": {
  "kernelspec": {
   "display_name": "Python 3",
   "language": "python",
   "name": "python3"
  },
  "language_info": {
   "codemirror_mode": {
    "name": "ipython",
    "version": 3
   },
   "file_extension": ".py",
   "mimetype": "text/x-python",
   "name": "python",
   "nbconvert_exporter": "python",
   "pygments_lexer": "ipython3",
   "version": "3.8.10"
  }
 },
 "nbformat": 4,
 "nbformat_minor": 5
}
